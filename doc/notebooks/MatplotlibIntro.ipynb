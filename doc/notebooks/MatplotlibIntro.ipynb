{
 "cells": [
  {
   "cell_type": "markdown",
   "metadata": {},
   "source": [
    "# Introduction à Matplotlib\n",
    "<span style=\"color:blue; font-family:Georgia; font-size:1.5em;\">Ahmed Ammar et Hassen Ghalila</span>\n",
    "\n",
    "<span style=\"color:blue; font-family:Georgia; font-size:1em;\">Faculté des Sciences de Tunis, Université de Tunis El Manar</span>"
   ]
  },
  {
   "cell_type": "code",
   "execution_count": null,
   "metadata": {
    "collapsed": false
   },
   "outputs": [],
   "source": [
    "#Juste pour savoir la dernière fois que cela a été exécuté:\n",
    "import time\n",
    "print(time.ctime())"
   ]
  },
  {
   "cell_type": "markdown",
   "metadata": {},
   "source": [
    "## Introduction\n",
    "\n",
    "Matplotlib est une excellente bibliothèque graphique 2D et 3D pour générer des figures scientifiques. Voici quelques-uns des nombreux avantages de cette bibliothèque:\n",
    "\n",
    "* Facile à utiliser\n",
    "* Prise en charge des étiquettes et des textes formatés $ \\ LaTeX $\n",
    "* Un excellent contrôle de chaque élément d'une figure, y compris la taille de la taille et le DPI.\n",
    "* Sortie de haute qualité dans de nombreux formats, y compris PNG, PDF, SVG, EPS.\n",
    "* GUI pour explorer interactivement les figures.\n",
    "\n",
    "## Documentation en ligne et Galerie\n",
    "Vous trouverez plus d'informations, y compris une documentation complète et une vaste galerie d'exemples, à la page Web de Matplotlib: http://matplotlib.org/\n",
    "\n",
    "De nombreux utilisateurs de matplotlib sont souvent confrontés à la question: \"*Je veux faire un graphe qui a X avec Y dans la même figure, mais il doit ressembler à Z*\". Bonne chance d'obtenir une réponse, à partir d'une recherche sur Internet avec cette requête. C'est pourquoi la [galerie](http://matplotlib.org/gallery.html) est si utile, car elle montre la variété des façons dont on peut faire des parcelles. Parcourez la galerie, cliquez sur n'importe quelle figure qui comporte des éléments de ce que vous voulez voir le code qui l'a généré. Bientôt, vous serez comme un chef, mélangez et associez des composants pour produire votre chef-d'œuvre!"
   ]
  },
  {
   "cell_type": "markdown",
   "metadata": {},
   "source": [
    "## Anatomie d'un \"Plot\"\n",
    "\n",
    "<Img src = \"images/figure_axes_axis_labeled.png\">\n",
    "\n",
    "La ``Figure`` est le conteneur de niveau supérieur dans cette hiérarchie. C'est la fenêtre générale / page sur laquelle tout est dessiné. Vous pouvez avoir plusieurs chiffres indépendants et `` Figure``s peuvent contenir plusieurs \"Axes\".\n",
    "\n",
    "La plupart des octets de traçage sur `` Axes``. Les axes sont effectivement la zone sur laquelle nous traçons des données et des ticks / labels / etc associés. Habituellement, nous configurons un Axes avec un appel à `` subplot`` (qui place les Axes sur une grille ordinaire), donc dans la plupart des cas, `` Axes`` et `` Subplot`` sont synonymes.\n",
    "\n",
    "Chacun `` Axes`` a un `` XAxis`` et un `` YAxis``. Ceux-ci contiennent les tiques, les emplacements des repères, les étiquettes, etc. Dans ce tutoriel, nous contrôlons principalement les tiques, les étiquettes de repères et les limites de données à travers d'autres mécanismes, de sorte que nous ne toucherons pas les éléments individuels de `` Axis`` autant. Cependant, il convient de mentionner ici pour expliquer d'où vient le terme «Axes»."
   ]
  },
  {
   "cell_type": "markdown",
   "metadata": {},
   "source": [
    "Pour commencer à utiliser Matplotlib dans l'environnement IPython Notebook, nous devons configurer l'interaction entre Matplotlib et IPython afin qu'ils puissent bien jouer ensemble. Ceci est accompli avec la commande suivante:"
   ]
  },
  {
   "cell_type": "code",
   "execution_count": null,
   "metadata": {
    "collapsed": true
   },
   "outputs": [],
   "source": [
    "%matplotlib inline  "
   ]
  },
  {
   "cell_type": "markdown",
   "metadata": {},
   "source": [
    "Cela configure IPython pour jouer avec la bibliothèque `%matplotlib`; Le mot-clé `inline` spécifie que la sortie des tracés Matplotlib doit être affichée directement dans le même ordinateur, juste en dessous de la cellule d'entrée correspondante. Toutefois, il ne importe pas et ne nomme pas l'espace de noms. Pour ce faire, les importations standard sont toujours requises pour utiliser Matplotlib:"
   ]
  },
  {
   "cell_type": "code",
   "execution_count": null,
   "metadata": {
    "collapsed": true
   },
   "outputs": [],
   "source": [
    "import matplotlib\n",
    "import numpy as np\n",
    "import matplotlib.pyplot as plt"
   ]
  },
  {
   "cell_type": "markdown",
   "metadata": {},
   "source": [
    "Pour une utilisation interactive (mais *pas* pour être utilisé à partir de scripts), il existe une option de commodité qui encapsule toutes les étapes ci-dessus:"
   ]
  },
  {
   "cell_type": "code",
   "execution_count": null,
   "metadata": {
    "collapsed": false
   },
   "outputs": [],
   "source": [
    "# Inclure automatiquement tous les noms du paquet `pylab`\n",
    "%pylab inline"
   ]
  },
  {
   "cell_type": "markdown",
   "metadata": {},
   "source": [
    "Comme il ressort du message que IPython affiche, cela équivaut à l'exécution de% matplotlib, suivie d'une séquence d'importations. Les importations exactes effectuées peuvent être trouvées dans la documentation de `%pylab`:"
   ]
  },
  {
   "cell_type": "code",
   "execution_count": null,
   "metadata": {
    "collapsed": true
   },
   "outputs": [],
   "source": [
    "%pylab?"
   ]
  },
  {
   "cell_type": "markdown",
   "metadata": {},
   "source": [
    "## Aperçu visuel des fonctions de traçage\n",
    "Voici un aperçu visuel simplifié des types de graphiques les plus couramment utilisés de matplotlib. Passons à travers ces derniers, et nous en reparlerons plus en détail. En cliquant sur l'une de ces images, vous mènera au code qui les a générés. Nous ignorerons cela pour l'instant, mais nous nous efforçons de passer en revue plus tard.\n",
    "\n",
    "## Les bases:  Série/points 1D\n",
    "### Ce que nous avons mentionné jusqu'ici\n",
    "<a  href=\"examples/plot_example.py\"><img src=\"images/plot_example.png\"></a>\n",
    "<a href=\"examples/scatter_example.py\"><img src=\"images/scatter_example.png\"></a>\n",
    "### Autres types de graphiques communes\n",
    "<a href=\"examples/bar_example.py\"><img src=\"images/bar_example.png\"></a>\n",
    "<a href=\"examples/fill_example.py\"><img src=\"images/fill_example.png\"></a>\n",
    "\n",
    "## Arrays et images 2D\n",
    "<a href=\"examples/imshow_example.py\"><img src=\"images/imshow_example.png\"></a>\n",
    "<a href=\"examples/pcolor_example.py\"><img src=\"images/pcolor_example.png\"></a>\n",
    "<a href=\"examples/contour_example.py\"><img src=\"images/contour_example.png\"></a>\n",
    "\n",
    "## Champ de vecteurs\n",
    "<a href=\"examples/vector_example.py\"><img src=\"images/vector_example.png\"></a>\n",
    "\n",
    "## Distributions de données\n",
    "<a href=\"examples/statistical_example.py\"><img src=\"images/statistical_example.png\"></a>"
   ]
  },
  {
   "cell_type": "markdown",
   "metadata": {
    "collapsed": true
   },
   "source": [
    "## Exemple simple de syntaxe de type MATLAB"
   ]
  },
  {
   "cell_type": "markdown",
   "metadata": {},
   "source": [
    "Commençons par dessiner une figure simple à l'aide de la syntaxe de traçage MATLAB.\n",
    "\n",
    "D'abord, nous définissons les données que nous souhaitons tracer:"
   ]
  },
  {
   "cell_type": "code",
   "execution_count": null,
   "metadata": {
    "collapsed": false
   },
   "outputs": [],
   "source": [
    "x = linspace(0, 5, 10)\n",
    "y = x ** 2"
   ]
  },
  {
   "cell_type": "markdown",
   "metadata": {},
   "source": [
    "Maintenant, nous faisons la figure:"
   ]
  },
  {
   "cell_type": "code",
   "execution_count": null,
   "metadata": {
    "collapsed": false
   },
   "outputs": [],
   "source": [
    "figure()\n",
    "plot(x, y, 'r')\n",
    "xlabel('x')\n",
    "ylabel('y')\n",
    "title('Titre')\n",
    "show()"
   ]
  },
  {
   "cell_type": "markdown",
   "metadata": {},
   "source": [
    "La plupart des fonctions liées au traçage dans MATLAB sont couvertes par le module `pylab`, par exemple en sélectionnant des couleurs et en utilisant des subplots:"
   ]
  },
  {
   "cell_type": "code",
   "execution_count": null,
   "metadata": {
    "collapsed": false
   },
   "outputs": [],
   "source": [
    "subplot(1,2,1)\n",
    "plot(x, y, 'r--')\n",
    "subplot(1,2,2)\n",
    "plot(y, x, 'g*-');"
   ]
  },
  {
   "cell_type": "markdown",
   "metadata": {},
   "source": [
    "La bonne chose à props `pylab` de syntaxe à la MatLab qu'il est facile de commencer avec si vous êtes familiarisé avec Matlab, et il a un minimum de codage généraux pour des figures simples.\n",
    "\n",
    "Cependant, je vous encourage *pas* d'utiliser l'API (Application Programming Interface) compatible à Matlab pour quoi que ce soit, sauf pour les figures les plus simples.\n",
    "\n",
    "Au lieu de cela, je recommande l'apprentissage et l'utilisation de traçage orienté objet de l'API de *matplotlib*. Il est remarquablement puissant pour les figures avancées, avec des subplots, des inserts et d'autres composants, il est très agréable de travailler."
   ]
  },
  {
   "cell_type": "markdown",
   "metadata": {},
   "source": [
    "## L'API orientée objet matplotlib"
   ]
  },
  {
   "cell_type": "markdown",
   "metadata": {},
   "source": [
    "Pour utiliser l'API orientée objet, nous commençons beaucoup comme dans l'exemple précédent, mais au lieu de créer une nouvelle figure mondiale instanc, e nous stockons une référence à l'occurrence de la figure nouvellement créée dans la variable `fig`, et à partir de celle-ci Nous créons une nouvelle axes instance `axes` à l'aide de la méthode` add_axes` dans l'occurrence de la classe `Figure` `fig`:"
   ]
  },
  {
   "cell_type": "code",
   "execution_count": null,
   "metadata": {
    "collapsed": false
   },
   "outputs": [],
   "source": [
    "fig = plt.figure()\n",
    "\n",
    "axes = fig.add_axes([0.1, 0.1, 0.8, 0.8]) # gauche, bas, largeur, hauteur (plage de 0 à 1)\n",
    "\n",
    "axes.plot(x, y, 'r')\n",
    "\n",
    "axes.set_xlabel('x')\n",
    "axes.set_ylabel('y')\n",
    "axes.set_title('title');"
   ]
  },
  {
   "cell_type": "markdown",
   "metadata": {},
   "source": [
    "Même si un peu plus de code est impliqué, l'avantage est que nous avons maintenant le contrôle total de l'emplacement des axes de tracé, et nous pouvons facilement ajouter plus d'un axe à la figure."
   ]
  },
  {
   "cell_type": "code",
   "execution_count": null,
   "metadata": {
    "collapsed": false
   },
   "outputs": [],
   "source": [
    "fig = plt.figure()\n",
    "\n",
    "axes1 = fig.add_axes([0.1, 0.1, 0.8, 0.8]) # main axes\n",
    "axes2 = fig.add_axes([0.2, 0.5, 0.4, 0.3]) # inset axes\n",
    "\n",
    "# Figure principale\n",
    "axes1.plot(x, y, 'r')\n",
    "axes1.set_xlabel('x')\n",
    "axes1.set_ylabel('y')\n",
    "axes1.set_title('Titre')\n",
    "\n",
    "# Figure insérée\n",
    "axes2.plot(y, x, 'g')\n",
    "axes2.set_xlabel('y')\n",
    "axes2.set_ylabel('x')\n",
    "axes2.set_title('Titre inséré')"
   ]
  },
  {
   "cell_type": "markdown",
   "metadata": {},
   "source": [
    "Si nous ne voulons pas expliquer pourquoi nos axes de tracé sont placés dans la toile de figure, nous pouvons utiliser l'un des nombreux gestionnaires de disposition d'axe dans matplotlib. Mon préféré est `subplots`, qui peut être utilisé comme ceci:"
   ]
  },
  {
   "cell_type": "code",
   "execution_count": null,
   "metadata": {
    "collapsed": false
   },
   "outputs": [],
   "source": [
    "fig, axes = plt.subplots()\n",
    "\n",
    "axes.plot(x, y, 'r')\n",
    "axes.set_xlabel('x')\n",
    "axes.set_ylabel('y')\n",
    "axes.set_title('Titre')"
   ]
  },
  {
   "cell_type": "code",
   "execution_count": null,
   "metadata": {
    "collapsed": false
   },
   "outputs": [],
   "source": [
    "fig, axes = plt.subplots(nrows=1, ncols=2)\n",
    "\n",
    "for ax in axes:\n",
    "    ax.plot(x, y, 'r')\n",
    "    ax.set_xlabel('x')\n",
    "    ax.set_ylabel('y')\n",
    "    ax.set_title('title');"
   ]
  },
  {
   "cell_type": "markdown",
   "metadata": {},
   "source": [
    "C'était facile, mais ce n'est pas si joli avec des axes et des étiquettes superposés, n'est-ce pas?\n",
    "\n",
    "Nous pouvons nous occuper de cela en utilisant la méthode `fig.tight_layout`, qui ajuste automatiquement les positions des axes sur la toile de la figure afin qu'il n'y ait pas de contenu superposé:"
   ]
  },
  {
   "cell_type": "code",
   "execution_count": null,
   "metadata": {
    "collapsed": false
   },
   "outputs": [],
   "source": [
    "fig, axes = plt.subplots(nrows=1, ncols=2)\n",
    "\n",
    "for ax in axes:\n",
    "    ax.plot(x, y, 'r')\n",
    "    ax.set_xlabel('x')\n",
    "    ax.set_ylabel('y')\n",
    "    ax.set_title('Titre')\n",
    "    \n",
    "fig.tight_layout()"
   ]
  },
  {
   "cell_type": "markdown",
   "metadata": {},
   "source": [
    "### Exercice_Mpl1:\n",
    "Utilisons un peu de ce que nous avons appris. Pouvez-vous reproduire cette figure?\n",
    "\n",
    "<img src=\"images/exercise_Mpl1.png\">\n",
    "\n",
    "Voici les données et une partie du code pour vous aider à démarrer."
   ]
  },
  {
   "cell_type": "code",
   "execution_count": null,
   "metadata": {
    "collapsed": false
   },
   "outputs": [],
   "source": [
    "# %load exercises/exercice_Mpl1.py\n",
    "import numpy as np\n",
    "import matplotlib.pyplot as plt\n",
    "\n",
    "# Essayez de reproduire la figure indiquée dans images/exercise_Mpl1.png\n",
    "\n",
    "# Nos données ...\n",
    "x = np.linspace(0, 10, 100)\n",
    "y1, y2, y3 = np.cos(x), np.cos(x + 1), np.cos(x + 2)\n",
    "titres = ['Signal 1', 'Signal 2', 'Signal 3']\n",
    "fig, axes = plt.subplots(nrows=3)\n",
    "fig.tight_layout() #Ajuster en sorte que les subplots remplissent la figure\n",
    "\n",
    "# Pouvez-vous comprendre ce qu'il faut faire ensuite \n",
    "#pour tracer x vs y1, y2 et y3 sur une figure?\n"
   ]
  },
  {
   "cell_type": "markdown",
   "metadata": {},
   "source": [
    "## Taille de la figure, rapport d'aspect et DPI\n",
    "Matplotlib permet de spécifier le rapport d'aspect, le DPI et la taille de la figure lorsque l'objet `Figure` est créé, en utilisant les arguments de mots-clés` figsize` et `dpi`. `figsize` est un tuple avec largeur et hauteur de la figure en pouces, et `dpi` est le point par pouce (pixel par pouce). Pour créer une figure avec une taille 800 de 400 pixels, nous pouvons:"
   ]
  },
  {
   "cell_type": "code",
   "execution_count": null,
   "metadata": {
    "collapsed": false
   },
   "outputs": [],
   "source": [
    "fig = plt.figure(figsize=(8,4), dpi=100)"
   ]
  },
  {
   "cell_type": "markdown",
   "metadata": {},
   "source": [
    "Les mêmes arguments peuvent également être transmis aux gestionnaires de mise en page, tels que la fonction `subplots`."
   ]
  },
  {
   "cell_type": "code",
   "execution_count": null,
   "metadata": {
    "collapsed": false
   },
   "outputs": [],
   "source": [
    "fig, axes = plt.subplots(figsize=(12,3))\n",
    "x = linspace(0, 5, 10)\n",
    "y = x ** 2\n",
    "\n",
    "axes.plot(x, y, 'r')\n",
    "axes.set_xlabel('x')\n",
    "axes.set_ylabel('y')\n",
    "axes.set_title('Titre');"
   ]
  },
  {
   "cell_type": "markdown",
   "metadata": {},
   "source": [
    "## Enregistrement des figures\n",
    "Pour enregistrer une figure, un fichier, nous pouvons utiliser la méthode `savefig` dans la classe `Figure`."
   ]
  },
  {
   "cell_type": "code",
   "execution_count": null,
   "metadata": {
    "collapsed": true
   },
   "outputs": [],
   "source": [
    "fig.savefig(\"filename.png\")"
   ]
  },
  {
   "cell_type": "markdown",
   "metadata": {},
   "source": [
    "Ici, nous pouvons également spécifier le DPI et choisir entre différents formats de sortie."
   ]
  },
  {
   "cell_type": "code",
   "execution_count": null,
   "metadata": {
    "collapsed": true
   },
   "outputs": [],
   "source": [
    "fig.savefig(\"filename.png\", dpi=200)"
   ]
  },
  {
   "cell_type": "code",
   "execution_count": null,
   "metadata": {
    "collapsed": true
   },
   "outputs": [],
   "source": [
    "fig.savefig(\"filename.pdf\")"
   ]
  },
  {
   "cell_type": "markdown",
   "metadata": {},
   "source": [
    "### Quels sont les formats disponibles et ceux qui doivent être utilisés pour la meilleure qualité?\n",
    "Matplotlib peut générer des sorties de haute qualité dans un nombre de formats, y compris PNG, JPG, EPS, SVG, PDF. Pour les documents scientifiques, utilisez le PDF chaque fois que possible (compilez les documents LaTeX avec `pdflatex`, qui peut inclure des fichiers PDF en utilisant la commande` includegraphics`)."
   ]
  },
  {
   "cell_type": "markdown",
   "metadata": {},
   "source": [
    "## Légende, étiquettes et titres\n",
    "Maintenant que nous avons couvert les bases de la façon de créer une figure et d'ajouter des exemples d'axes sur le canevas, regardons comment décorer une figure avec des titres, des étiquettes d'axe et des légendes:"
   ]
  },
  {
   "cell_type": "markdown",
   "metadata": {},
   "source": [
    "** Titres des figures **\n",
    "\n",
    "Un titre peut être ajouté à chaque instance d'axe d'une figure. Pour définir le titre, utilisez la méthode `set_title` dans l'instance des axes:"
   ]
  },
  {
   "cell_type": "code",
   "execution_count": null,
   "metadata": {
    "collapsed": false
   },
   "outputs": [],
   "source": [
    "ax.set_title(\"title\")"
   ]
  },
  {
   "cell_type": "markdown",
   "metadata": {},
   "source": [
    "** étiquettes des axes **\n",
    "\n",
    "De même, en utilisant les méthodes `set_xlabel` et` set_ylabel`, nous pouvons définir les étiquettes des axes X et Y:"
   ]
  },
  {
   "cell_type": "code",
   "execution_count": null,
   "metadata": {
    "collapsed": false
   },
   "outputs": [],
   "source": [
    "ax.set_xlabel(\"x\")\n",
    "ax.set_ylabel(\"y\")"
   ]
  },
  {
   "cell_type": "markdown",
   "metadata": {},
   "source": [
    "**Légendes**\n",
    "\n",
    "Les légendes sur les courbes d'une figure peuvent être ajoutées de deux façons. La première méthode consiste à utiliser la méthode `legend` de l'objet axe et à passer une liste / un tuple de textes de légende pour les courbes précédemment ajoutées:"
   ]
  },
  {
   "cell_type": "code",
   "execution_count": null,
   "metadata": {
    "collapsed": true
   },
   "outputs": [],
   "source": [
    "ax.legend([\"courbe 1\", \"courbe 2\", \"courbe 3\"]);"
   ]
  },
  {
   "cell_type": "markdown",
   "metadata": {},
   "source": [
    "La méthode décrite ci-dessus suit l'API MATLAB. Il est quelque peu propice aux erreurs et indéfinissable si les courbes sont ajoutées ou supprimées de la figure (ce qui entraîne une mauvaise étiquette utilisée pour une mauvaise courbe).\n",
    "\n",
    "Une meilleure méthode est d'utiliser l'argument de mot-clé `label = \"label text\"` lorsque les tracés d'autres objets sont ajoutés à la figure, puis en utilisant la méthode` legend` sans argument pour ajouter la légende:"
   ]
  },
  {
   "cell_type": "code",
   "execution_count": null,
   "metadata": {
    "collapsed": false
   },
   "outputs": [],
   "source": [
    "ax.plot(x, x**2, label=\"courbe 1\")\n",
    "ax.plot(x, x**3, label=\"courbe 2\")\n",
    "ax.legend()"
   ]
  },
  {
   "cell_type": "markdown",
   "metadata": {},
   "source": [
    "L'avantage de cette méthode est que si les courbes sont ajoutées ou supprimées de la figure, la légende est automatiquement mise à jour en conséquence.\n",
    "\n",
    "La fonction `legend` prend et l'argument de travail optionnel `loc` qui peut être utilisé pour spécifier l'endroit dans lequel figure la légende à dessiner. Les valeurs autorisées de `loc` sont des codes numériques pour les différents endroits où la légende peut être dessinée. Voir http://matplotlib.org/users/legend_guide.html#legend-location pour plus de détails. Certaines alternatives les plus courantes sont:"
   ]
  },
  {
   "cell_type": "code",
   "execution_count": null,
   "metadata": {
    "collapsed": false
   },
   "outputs": [],
   "source": [
    "ax.legend(loc=0) # laisser matplotlib décider de la position optimale\n",
    "ax.legend(loc=1) # coin supérieur droit\n",
    "ax.legend(loc=2) # coin supérieur gauche\n",
    "ax.legend(loc=3) # coin inférieur gauche\n",
    "ax.legend(loc=4) # coin inférieur droit\n",
    "# .. beaucoup d'autres options sont disponibles"
   ]
  },
  {
   "cell_type": "markdown",
   "metadata": {},
   "source": [
    "La figure suivante montre comment utiliser le titre de la figure, les étiquettes d'axe et les légendes décrites ci-dessus:"
   ]
  },
  {
   "cell_type": "code",
   "execution_count": null,
   "metadata": {
    "collapsed": false
   },
   "outputs": [],
   "source": [
    "fig, ax = subplots()\n",
    "\n",
    "ax.plot(x, x**2, label=\"y = x**2\")\n",
    "ax.plot(x, x**3, label=\"y = x**3\")\n",
    "ax.set_xlabel('x')\n",
    "ax.set_ylabel('y')\n",
    "ax.set_title('Titre')\n",
    "ax.legend(loc=2); # coin supérieur gauche"
   ]
  },
  {
   "cell_type": "markdown",
   "metadata": {},
   "source": [
    "## Formatage du texte: LaTeX, taille de polices , famille de polices\n",
    "La figure ci-dessus est fonctionnelle, mais elle ne correspond pas (encore) aux critères d'un chiffre utilisé dans une publication. D'abord et avant tout, nous devons avoir le texte formaté LaTeX, et deuxièmement, nous devons pouvoir ajuster la taille de la police pour apparaître directement dans une publication.\n",
    "\n",
    "Matplotlib bénéficie d'un excellent support pour LaTeX. Tout ce que nous devons faire, c'est d'utiliser des signes en dollars, encapsuler LaTeX dans n'importe quel texte (légende, titre, étiquette, etc.). Par exemple, `\"$y = x^3$\"`.\n",
    "\n",
    "Mais ici, nous pouvons rencontrer un problème légèrement subtil avec le code LaTeX et les chaînes de texte Python. Dans LaTeX, nous utilisons fréquemment la barre oblique inverse dans les commandes, par exemple `\\alpha` pour produire le symbole $\\alpha$. Mais la barre oblique inverse a déjà un sens dans les chaînes Python (le caractère du code d'échappement). Pour éviter que Python ne gâche notre code de latex, nous devons utiliser des chaînes de texte \"brutes\". Les chaînes de texte brutes sont prépendues avec et 'r', comme `r\"\\alpha\"` ou `r'\\alpha'` au lieu de `\"\\alpha\" `ou `'\\alpha'`."
   ]
  },
  {
   "cell_type": "code",
   "execution_count": null,
   "metadata": {
    "collapsed": false
   },
   "outputs": [],
   "source": [
    "fig, ax = subplots()\n",
    "\n",
    "ax.plot(x, x**2, label=r\"$y = \\alpha^2$\")\n",
    "ax.plot(x, x**3, label=r\"$y = \\alpha^3$\")\n",
    "ax.set_xlabel(r'$\\alpha$', fontsize=18)\n",
    "ax.set_ylabel(r'$y$', fontsize=18)\n",
    "ax.set_title('Titre')\n",
    "ax.legend(loc=2); # coin supérieur gauche"
   ]
  },
  {
   "cell_type": "markdown",
   "metadata": {},
   "source": [
    "Nous pouvons également modifier la taille de police globale et la famille de polices, qui s'applique à tous les éléments de texte d'une figure (étiquettes de pointage, étiquettes d'axe et titres, légendes, etc.):"
   ]
  },
  {
   "cell_type": "code",
   "execution_count": null,
   "metadata": {
    "collapsed": true
   },
   "outputs": [],
   "source": [
    "# Mettre à jour les paramètres de configuration matplotlib:\n",
    "matplotlib.rcParams.update({'font.size': 18, 'font.family': 'serif'})"
   ]
  },
  {
   "cell_type": "code",
   "execution_count": null,
   "metadata": {
    "collapsed": false
   },
   "outputs": [],
   "source": [
    "fig, ax = subplots()\n",
    "\n",
    "ax.plot(x, x**2, label=r\"$y = \\alpha^2$\")\n",
    "ax.plot(x, x**3, label=r\"$y = \\alpha^3$\")\n",
    "ax.set_xlabel(r'$\\alpha$')\n",
    "ax.set_ylabel(r'$y$')\n",
    "ax.set_title('Titre')\n",
    "ax.legend(loc=2); # coin supérieur gauche"
   ]
  },
  {
   "cell_type": "code",
   "execution_count": null,
   "metadata": {
    "collapsed": true
   },
   "outputs": [],
   "source": [
    "# restaurer\n",
    "matplotlib.rcParams.update({'font.size': 12, 'font.family': 'sans'})"
   ]
  },
  {
   "cell_type": "markdown",
   "metadata": {},
   "source": [
    "## Réglage des couleurs, des largeurs des lignes, des types des lignes\n",
    "### Couleurs\n",
    "\n",
    "Dans Matplotlib, nous pouvons définir de différentes façons les couleurs des lignes et d'autres éléments graphiques. Tout d'abord, nous pouvons utiliser la syntaxe de type MATLAB où `'b'` signifie bleu,`'g'` signifie vert, etc. L'API MATLAB pour la sélection des styles de ligne est également prise en charge: où par exemple `'b.-'` signifie une ligne bleue avec des points."
   ]
  },
  {
   "cell_type": "code",
   "execution_count": null,
   "metadata": {
    "collapsed": false
   },
   "outputs": [],
   "source": [
    "# Couleur et style de la ligne de style MATLAB\n",
    "ax.plot (x, x ** 2, 'b.-') # ligne bleue avec des points\n",
    "ax.plot (x, x ** 3, 'g--') # ligne pointillée verte"
   ]
  },
  {
   "cell_type": "markdown",
   "metadata": {},
   "source": [
    "En matplotlib on peut aussi définir des couleurs par leur nom ou les codes hexadécimaux RVB, et éventuellement fournir une valeur alpha, en utilisant les arguments mot-clé `color` et `alpha`: "
   ]
  },
  {
   "cell_type": "code",
   "execution_count": null,
   "metadata": {
    "collapsed": false
   },
   "outputs": [],
   "source": [
    "fig, ax = subplots()\n",
    "\n",
    "ax.plot(x, x+1, color=\"red\", alpha=0.5) # demi-transparent rouge\n",
    "ax.plot(x, x+2, color=\"#1155dd\") # Code hexadécimal RVB pour une couleur bleutée\n",
    "ax.plot(x, x+3, color=\"#15cc55\") # Code hexadéxique RVB pour une couleur verdâtre"
   ]
  },
  {
   "cell_type": "markdown",
   "metadata": {},
   "source": [
    "### Styles de ligne et marqueur\n",
    "\n",
    "Pour modifier la largeur de la ligne, nous pouvons utiliser l'argument de mots-clés `linewidth` ou `lw`, et le style de ligne peut être sélectionné à l'aide des arguments de mots clés `linestyle` ou `ls`:"
   ]
  },
  {
   "cell_type": "code",
   "execution_count": null,
   "metadata": {
    "collapsed": false
   },
   "outputs": [],
   "source": [
    "fig, ax = subplots(figsize=(12,6))\n",
    "\n",
    "ax.plot(x, x+1, color=\"blue\", linewidth=0.25)\n",
    "ax.plot(x, x+2, color=\"blue\", linewidth=0.50)\n",
    "ax.plot(x, x+3, color=\"blue\", linewidth=1.00)\n",
    "ax.plot(x, x+4, color=\"blue\", linewidth=2.00)\n",
    "\n",
    "# Options de type de lignes possibles ‘-‘, ‘–’, ‘-.’, ‘:’, ‘steps’\n",
    "ax.plot(x, x+5, color=\"red\", lw=2, linestyle='-')\n",
    "ax.plot(x, x+6, color=\"red\", lw=2, ls='-.')\n",
    "ax.plot(x, x+7, color=\"red\", lw=2, ls=':')\n",
    "\n",
    "# custom dash\n",
    "line, = ax.plot(x, x+8, color=\"black\", lw=1.50)\n",
    "line.set_dashes([5, 10, 15, 10]) # format: line length, space length, ...\n",
    "\n",
    "# possible marker symbols: marker = '+', 'o', '*', 's', ',', '.', '1', '2', '3', '4', ...\n",
    "ax.plot(x, x+ 9, color=\"green\", lw=2, ls='-.', marker='+')\n",
    "ax.plot(x, x+10, color=\"green\", lw=2, ls='-.', marker='o')\n",
    "ax.plot(x, x+11, color=\"green\", lw=2, ls='-.', marker='s')\n",
    "ax.plot(x, x+12, color=\"green\", lw=2, ls='-.', marker='1')\n",
    "\n",
    "# marker size and color\n",
    "ax.plot(x, x+13, color=\"purple\", lw=1, ls='-', marker='o', markersize=2)\n",
    "ax.plot(x, x+14, color=\"purple\", lw=1, ls='-', marker='o', markersize=4)\n",
    "ax.plot(x, x+15, color=\"purple\", lw=1, ls='-', marker='o', markersize=8, markerfacecolor=\"red\")\n",
    "ax.plot(x, x+16, color=\"purple\", lw=1, ls='-', marker='s', markersize=8, \n",
    "        markerfacecolor=\"yellow\", markeredgewidth=2, markeredgecolor=\"blue\");"
   ]
  },
  {
   "cell_type": "markdown",
   "metadata": {},
   "source": [
    "## Contrôle sur l'appellation d'axe\n",
    "\n",
    "L'apparence des axes est un aspect important d'une figure que nous devons souvent modifier pour créer des graphiques de qualité de publication. Nous devons être en mesure de contrôler l'endroit où les tiques et les étiquettes sont placées, modifier la  de la police et éventuellement les étiquettes utilisées sur les axes. Dans cette section, nous examinerons le contrôle de ces propriétés dans une figure matplotlib.\n",
    "\n",
    "### Plot range\n",
    "\n",
    "La première chose que nous voulons configurer est la portée des axes. Nous pouvons le faire en utilisant les méthodes `set_ylim` et `set_xlim` dans l'objet d'axe, ou `axis('tight')` pour obtenir automatiquement des intervalles d'axes \"parfaitement ajustés\"."
   ]
  },
  {
   "cell_type": "code",
   "execution_count": null,
   "metadata": {
    "collapsed": false
   },
   "outputs": [],
   "source": [
    "fig, axes = subplots(1, 3, figsize=(12, 4))\n",
    "\n",
    "axes[0].plot(x, x**2, x, x**3)\n",
    "axes[0].set_title(\"Intervalles d'axes par défaut\")\n",
    "\n",
    "axes[1].plot(x, x**2, x, x**3)\n",
    "axes[1].axis('tight')\n",
    "axes[1].set_title(\"Axes ajustés\")\n",
    "\n",
    "axes[2].plot(x, x**2, x, x**3)\n",
    "axes[2].set_ylim([0, 60])\n",
    "axes[2].set_xlim([2, 5])\n",
    "axes[2].set_title(\"Intervalles d'axes personnalisés\");"
   ]
  },
  {
   "cell_type": "markdown",
   "metadata": {},
   "source": [
    "### Placement des graduations et étiquettes des graduations personnalisées\n",
    "\n",
    "Nous pouvons déterminer explicitement où nous voulons les graduations d'axe en utilisant les `set_xticks` et les `set_yticks`, qui prennent toutes deux une liste de valeurs pour l'endroit où les graduations doivent être placées. Nous pouvons également utiliser les fonctions `set_xticklabels` et` set_yticklabels` pour fournir une liste d'étiquettes de texte personnalisées pour chaque emplacement de graduation:"
   ]
  },
  {
   "cell_type": "code",
   "execution_count": null,
   "metadata": {
    "collapsed": false
   },
   "outputs": [],
   "source": [
    "fig, ax = subplots(figsize=(10, 4))\n",
    "\n",
    "ax.plot(x, x**2, x, x**3, lw=2)\n",
    "\n",
    "ax.set_xticks([1, 2, 3, 4, 5])\n",
    "ax.set_xticklabels([r'$\\alpha$', r'$\\beta$', r'$\\gamma$', r'$\\delta$', r'$\\epsilon$'], fontsize=18)\n",
    "\n",
    "yticks = [0, 50, 100, 150]\n",
    "ax.set_yticks(yticks)\n",
    "ax.set_yticklabels([\"$%.1f$\" % y for y in yticks], fontsize=18); # use LaTeX formatted labels"
   ]
  },
  {
   "cell_type": "markdown",
   "metadata": {},
   "source": [
    "Dans matplotlib, il existe un certain nombre de méthodes plus avancées pour contrôler le placement des graduations majeures et mineures, telles que le placement automatique selon différentes règles. Voir http://matplotlib.org/api/ticker_api.html pour plus de détails."
   ]
  },
  {
   "cell_type": "markdown",
   "metadata": {},
   "source": [
    "### Grille des axes\n",
    "\n",
    "En utilisant la méthode `grid` dans l'objet de l'axe, nous pouvons allumer et éteindre les lignes de la grille. Nous pouvons également personnaliser l'apparence des lignes de quadrillage, en utilisant les mêmes arguments que précédemment utilisés avec la fonction `plot`."
   ]
  },
  {
   "cell_type": "code",
   "execution_count": null,
   "metadata": {
    "collapsed": false
   },
   "outputs": [],
   "source": [
    "fig, axes = subplots(1, 2, figsize=(10,3))\n",
    "\n",
    "# Aspect de grille par défaut\n",
    "axes[0].plot(x, x**2, x, x**3, lw=2)\n",
    "axes[0].grid(True)\n",
    "\n",
    "# Aspect de grille personnalisé\n",
    "axes[1].plot(x, x**2, x, x**3, lw=2)\n",
    "axes[1].grid(color='b', alpha=0.5, linestyle='dashed', linewidth=0.5)"
   ]
  },
  {
   "cell_type": "markdown",
   "metadata": {},
   "source": [
    "### Propriétés des axes\n",
    "\n",
    "Nous pouvons également modifier les propriétés des axes:"
   ]
  },
  {
   "cell_type": "code",
   "execution_count": null,
   "metadata": {
    "collapsed": false
   },
   "outputs": [],
   "source": [
    "fig, ax = subplots(figsize=(6,2))\n",
    "\n",
    "ax.spines['bottom'].set_color('blue')\n",
    "ax.spines['top'].set_color('blue')\n",
    "\n",
    "ax.spines['left'].set_color('red')\n",
    "ax.spines['left'].set_linewidth(2)\n",
    "\n",
    "# désactiver l'axe à droite\n",
    "ax.spines['right'].set_color(\"none\")\n",
    "ax.yaxis.tick_left() # Seulement des graduations sur le côté gauche"
   ]
  },
  {
   "cell_type": "markdown",
   "metadata": {},
   "source": [
    "### Axes jumeaux\n",
    "\n",
    "Parfois, il est utile d'avoir des axes X ou Y doubles dans une figure, par exemple lorsque vous tracez des courbes avec des unités différentes. Matplotlib prend en charge ceci avec les fonctions `twinx` et` twiny`:"
   ]
  },
  {
   "cell_type": "code",
   "execution_count": null,
   "metadata": {
    "collapsed": false
   },
   "outputs": [],
   "source": [
    "fig, ax1 = subplots()\n",
    "\n",
    "ax1.plot(x, x**2, lw=2, color=\"blue\")\n",
    "ax1.set_ylabel(r\"aire $(m^2)$\", fontsize=18, color=\"blue\")\n",
    "for label in ax1.get_yticklabels():\n",
    "    label.set_color(\"blue\")\n",
    "    \n",
    "ax2 = ax1.twinx()\n",
    "ax2.plot(x, x**3, lw=2, color=\"red\")\n",
    "ax2.set_ylabel(r\"volume $(m^3)$\", fontsize=18, color=\"red\")\n",
    "for label in ax2.get_yticklabels():\n",
    "    label.set_color(\"red\")"
   ]
  },
  {
   "cell_type": "markdown",
   "metadata": {},
   "source": [
    "### Axes des x et des y se croisent en zéro"
   ]
  },
  {
   "cell_type": "code",
   "execution_count": null,
   "metadata": {
    "collapsed": false
   },
   "outputs": [],
   "source": [
    "fig, ax = subplots()\n",
    "\n",
    "ax.spines['right'].set_color('none')\n",
    "ax.spines['top'].set_color('none')\n",
    "\n",
    "ax.xaxis.set_ticks_position('bottom')\n",
    "ax.spines['bottom'].set_position(('data',0)) # set position of x spine to x=0\n",
    "\n",
    "ax.yaxis.set_ticks_position('left')\n",
    "ax.spines['left'].set_position(('data',0))   # set position of y spine to y=0\n",
    "\n",
    "xx = np.linspace(-0.75, 1., 100)\n",
    "ax.plot(xx, xx**3);"
   ]
  },
  {
   "cell_type": "markdown",
   "metadata": {},
   "source": [
    "## Autres styles de figures 2D\n",
    "\n",
    "En plus de la fonction `plot`, il existe un certain nombre d'autres fonctions pour générer différents types de parcelles. Consultez la galerie de tracé matplotlib pour obtenir une liste complète des types de parcelles disponibles: http://matplotlib.org/gallery.html. Voici quelques-uns des plus utiles:"
   ]
  },
  {
   "cell_type": "code",
   "execution_count": null,
   "metadata": {
    "collapsed": true
   },
   "outputs": [],
   "source": [
    "n = array([0,1,2,3,4,5])"
   ]
  },
  {
   "cell_type": "code",
   "execution_count": null,
   "metadata": {
    "collapsed": false
   },
   "outputs": [],
   "source": [
    "fig, axes = subplots(1, 4, figsize=(12,3))\n",
    "\n",
    "axes[0].scatter(xx, xx + 0.25*randn(len(xx)))\n",
    "\n",
    "axes[1].step(n, n**2, lw=2)\n",
    "\n",
    "axes[2].bar(n, n**2, align=\"center\", width=0.5, alpha=0.5)\n",
    "\n",
    "axes[3].fill_between(x, x**2, x**3, color=\"green\", alpha=0.5);"
   ]
  },
  {
   "cell_type": "code",
   "execution_count": null,
   "metadata": {
    "collapsed": false
   },
   "outputs": [],
   "source": [
    "# figure polaire utilisant add_axes et projection polaire\n",
    "fig = plt.figure()\n",
    "ax = fig.add_axes([0.0, 0.0, .6, .6], polar=True)\n",
    "t = linspace(0, 2 * pi, 100)\n",
    "ax.plot(t, t, color='blue', lw=3);"
   ]
  },
  {
   "cell_type": "markdown",
   "metadata": {},
   "source": [
    "## Annotation de texte\n",
    "\n",
    "L'annotation de texte dans les figures matplotlib peut être effectuée en utilisant la fonction `text`. Il prend en charge le formatage LaTeX comme les textes et les titres d'étiquettes d'axe:"
   ]
  },
  {
   "cell_type": "code",
   "execution_count": null,
   "metadata": {
    "collapsed": false
   },
   "outputs": [],
   "source": [
    "fig, ax = subplots()\n",
    "\n",
    "ax.plot(xx, xx**2, xx, xx**3)\n",
    "\n",
    "ax.text(0.15, 0.2, r\"$y=x^2$\", fontsize=20, color=\"blue\")\n",
    "ax.text(0.65, 0.1, r\"$y=x^3$\", fontsize=20, color=\"green\");"
   ]
  },
  {
   "cell_type": "markdown",
   "metadata": {},
   "source": [
    "##  Palette de couleur et figure de contour\n",
    "Les palettes de couleurs et les figures de contour sont utiles pour tracer des fonctions de deux variables. Dans la plupart de ces fonctions, nous utiliserons une carte de couleurs pour coder une dimension des données. Il existe un certain nombre de couleurs prédéfinies, et il est relativement simple de définir des colormaps personnalisés. Pour une liste de couleurs prédéfinies, voir:\n",
    "\n",
    "http://www.scipy.org/Cookbook/Matplotlib/Show_colormaps"
   ]
  },
  {
   "cell_type": "code",
   "execution_count": null,
   "metadata": {
    "collapsed": true
   },
   "outputs": [],
   "source": [
    "alpha = 0.7\n",
    "phi_ext = 2 * pi * 0.5\n",
    "\n",
    "def flux_qubit_potential(phi_m, phi_p):\n",
    "    return 2 + alpha - 2 * cos(phi_p)*cos(phi_m) - alpha * cos(phi_ext - 2*phi_p)"
   ]
  },
  {
   "cell_type": "code",
   "execution_count": null,
   "metadata": {
    "collapsed": true
   },
   "outputs": [],
   "source": [
    "phi_m = linspace(0, 2*pi, 100)\n",
    "phi_p = linspace(0, 2*pi, 100)\n",
    "X,Y = meshgrid(phi_p, phi_m)\n",
    "Z = flux_qubit_potential(X, Y).T"
   ]
  },
  {
   "cell_type": "markdown",
   "metadata": {},
   "source": [
    "#### pcolor"
   ]
  },
  {
   "cell_type": "code",
   "execution_count": null,
   "metadata": {
    "collapsed": false
   },
   "outputs": [],
   "source": [
    "fig, ax = subplots()\n",
    "\n",
    "p = ax.pcolor(X/(2*pi), Y/(2*pi), Z, cmap=cm.RdBu, vmin=abs(Z).min(), vmax=abs(Z).max())\n",
    "cb = fig.colorbar(p)"
   ]
  },
  {
   "cell_type": "markdown",
   "metadata": {},
   "source": [
    "#### imshow"
   ]
  },
  {
   "cell_type": "markdown",
   "metadata": {},
   "source": [
    "### contour"
   ]
  },
  {
   "cell_type": "code",
   "execution_count": null,
   "metadata": {
    "collapsed": false
   },
   "outputs": [],
   "source": [
    "fig, ax = subplots()\n",
    "\n",
    "cnt = contour(Z, cmap=cm.RdBu, vmin=abs(Z).min(), vmax=abs(Z).max(), extent=[0, 1, 0, 1])"
   ]
  },
  {
   "cell_type": "markdown",
   "metadata": {},
   "source": [
    "## Exercice_Mpl2:\n",
    "\n",
    "Pouvez-vous reproduire la figure ci-dessous?\n",
    "<img src=\"images/exercise_Mpl2.png\">"
   ]
  },
  {
   "cell_type": "code",
   "execution_count": null,
   "metadata": {
    "collapsed": false
   },
   "outputs": [],
   "source": [
    "# %load exercises/exercice_Mpl2.py\n",
    "import numpy as np\n",
    "import matplotlib.pyplot as plt\n",
    "np.random.seed(1)\n",
    "\n",
    "# Générer des données aléatoires avec différentes plages ...\n",
    "data1 = np.random.random((10, 10))\n",
    "data2 = 2 * np.random.random((10, 10))\n",
    "data3 = 3 * np.random.random((10, 10))\n",
    "\n",
    "# Configurer la figure et les axes ...\n",
    "fig, axes = plt.subplots(ncols=3, figsize=plt.figaspect(0.5))\n",
    "fig.tight_layout() #Ajuster en sorte que les subplots remplissent la figure\n",
    "cax = fig.add_axes([0.25, 0.1, 0.55, 0.03]) # Ajouter un axe pour la barre de couleurs\n",
    "\n",
    "# Maintenant, à vous de jouer!\n"
   ]
  },
  {
   "cell_type": "markdown",
   "metadata": {},
   "source": [
    "## Figures 3D\n",
    "\n",
    "Pour utiliser des figures 3D dans matplotlib, nous devons d'abord créer une instance axes de la classe `Axes3D`. Les axes 3D peuvent être ajoutés à une matrice de matplotlib exactement de la même manière que les axes 2D, mais une manière convenue de créer une instance d'axe 3D est d'utiliser l'argument de mot-clé `projection = '3d'` aux fonctions `add_axes` ou `add_subplot`."
   ]
  },
  {
   "cell_type": "code",
   "execution_count": null,
   "metadata": {
    "collapsed": true
   },
   "outputs": [],
   "source": [
    "from mpl_toolkits.mplot3d.axes3d import Axes3D"
   ]
  },
  {
   "cell_type": "markdown",
   "metadata": {},
   "source": [
    "### Surface plots"
   ]
  },
  {
   "cell_type": "code",
   "execution_count": null,
   "metadata": {
    "collapsed": false
   },
   "outputs": [],
   "source": [
    "fig = plt.figure(figsize=(14,6))\n",
    "\n",
    "# `ax` is a 3D-aware axis instance, because of the projection='3d' keyword argument to add_subplot\n",
    "ax = fig.add_subplot(1, 2, 1, projection='3d')\n",
    "\n",
    "p = ax.plot_surface(X, Y, Z, rstride=4, cstride=4, linewidth=0)\n",
    "\n",
    "# surface_plot with color grading and color bar\n",
    "ax = fig.add_subplot(1, 2, 2, projection='3d')\n",
    "p = ax.plot_surface(X, Y, Z, rstride=1, cstride=1, cmap=cm.coolwarm, linewidth=0, antialiased=False)\n",
    "cb = fig.colorbar(p, shrink=0.5)"
   ]
  },
  {
   "cell_type": "markdown",
   "metadata": {},
   "source": [
    "### Wire-frame plot"
   ]
  },
  {
   "cell_type": "code",
   "execution_count": null,
   "metadata": {
    "collapsed": false
   },
   "outputs": [],
   "source": [
    "fig = plt.figure(figsize=(8,6))\n",
    "\n",
    "ax = fig.add_subplot(1, 1, 1, projection='3d')\n",
    "\n",
    "p = ax.plot_wireframe(X, Y, Z, rstride=4, cstride=4)"
   ]
  },
  {
   "cell_type": "markdown",
   "metadata": {},
   "source": [
    "### Figure de contour avec projections"
   ]
  },
  {
   "cell_type": "code",
   "execution_count": null,
   "metadata": {
    "collapsed": false
   },
   "outputs": [],
   "source": [
    "fig = plt.figure(figsize=(8,6))\n",
    "\n",
    "ax = fig.add_subplot(1,1,1, projection='3d')\n",
    "\n",
    "ax.plot_surface(X, Y, Z, rstride=4, cstride=4, alpha=0.25)\n",
    "cset = ax.contour(X, Y, Z, zdir='z', offset=-pi, cmap=cm.coolwarm)\n",
    "cset = ax.contour(X, Y, Z, zdir='x', offset=-pi, cmap=cm.coolwarm)\n",
    "cset = ax.contour(X, Y, Z, zdir='y', offset=3*pi, cmap=cm.coolwarm)\n",
    "\n",
    "ax.set_xlim3d(-pi, 2*pi);\n",
    "ax.set_ylim3d(0, 3*pi);\n",
    "ax.set_zlim3d(-pi, 2*pi);"
   ]
  },
  {
   "cell_type": "markdown",
   "metadata": {},
   "source": [
    "### Modifiez l'angle de vue:\n",
    "\n",
    "Nous pouvons changer la perspective d'une figure 3D à l'aide de la fonction `view_init`, qui prend deux arguments: l'élévation et les angles d'azimut (degrés unitaires)"
   ]
  },
  {
   "cell_type": "code",
   "execution_count": null,
   "metadata": {
    "collapsed": false
   },
   "outputs": [],
   "source": [
    "fig = plt.figure(figsize=(12,6))\n",
    "\n",
    "ax = fig.add_subplot(1,2,1, projection='3d')\n",
    "ax.plot_surface(X, Y, Z, rstride=4, cstride=4, alpha=0.25)\n",
    "ax.view_init(30, 45)\n",
    "\n",
    "ax = fig.add_subplot(1,2,2, projection='3d')\n",
    "ax.plot_surface(X, Y, Z, rstride=4, cstride=4, alpha=0.25)\n",
    "ax.view_init(70, 30)\n",
    "\n",
    "fig.tight_layout()"
   ]
  }
 ],
 "metadata": {
  "kernelspec": {
   "display_name": "Python 3",
   "language": "python",
   "name": "python3"
  },
  "language_info": {
   "codemirror_mode": {
    "name": "ipython",
    "version": 3
   },
   "file_extension": ".py",
   "mimetype": "text/x-python",
   "name": "python",
   "nbconvert_exporter": "python",
   "pygments_lexer": "ipython3",
   "version": "3.6.0"
  }
 },
 "nbformat": 4,
 "nbformat_minor": 2
}
