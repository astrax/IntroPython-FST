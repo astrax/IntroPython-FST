{
 "cells": [
  {
   "cell_type": "markdown",
   "metadata": {},
   "source": [
    "# Introduction à Matplotlib"
   ]
  },
  {
   "cell_type": "markdown",
   "metadata": {},
   "source": [
    "### Ahmed Ammar et Hassen Ghalila, dpt Physique, Faculté des Sciences de Tunis, Université de Tunis El Manar"
   ]
  },
  {
   "cell_type": "code",
   "execution_count": 1,
   "metadata": {
    "collapsed": false
   },
   "outputs": [
    {
     "name": "stdout",
     "output_type": "stream",
     "text": [
      "Mon May  8 00:28:35 2017\n"
     ]
    }
   ],
   "source": [
    "#Juste pour savoir la dernière fois que cela a été exécuté:\n",
    "import time\n",
    "print(time.ctime())"
   ]
  },
  {
   "cell_type": "markdown",
   "metadata": {},
   "source": [
    "## Introduction\n",
    "\n",
    "Matplotlib est une excellente bibliothèque graphique 2D et 3D pour générer des figures scientifiques. Voici quelques-uns des nombreux avantages de cette bibliothèque:\n",
    "\n",
    "* Facile à utiliser\n",
    "* Prise en charge des étiquettes et des textes formatés $ \\ LaTeX $\n",
    "* Un excellent contrôle de chaque élément d'une figure, y compris la taille de la taille et le DPI.\n",
    "* Sortie de haute qualité dans de nombreux formats, y compris PNG, PDF, SVG, EPS.\n",
    "* GUI pour explorer interactivement les figures.\n",
    "\n",
    "## Documentation en ligne et Galerie\n",
    "Vous trouverez plus d'informations, y compris une documentation complète et une vaste galerie d'exemples, à la page Web de Matplotlib: http://matplotlib.org/\n",
    "\n",
    "De nombreux utilisateurs de matplotlib sont souvent confrontés à la question: \"*Je veux faire un graphe qui a X avec Y dans la même figure, mais il doit ressembler à Z*\". Bonne chance d'obtenir une réponse, à partir d'une recherche sur Internet avec cette requête. C'est pourquoi la [galerie](http://matplotlib.org/gallery.html) est si utile, car elle montre la variété des façons dont on peut faire des parcelles. Parcourez la galerie, cliquez sur n'importe quelle figure qui comporte des éléments de ce que vous voulez voir le code qui l'a généré. Bientôt, vous serez comme un chef, mélangez et associez des composants pour produire votre chef-d'œuvre!"
   ]
  },
  {
   "cell_type": "markdown",
   "metadata": {},
   "source": [
    "## Anatomie d'un \"Plot\"\n",
    "\n",
    "<Img src = \"images/figure_axes_axis_labeled.png\">\n",
    "\n",
    "La ``Figure`` est le conteneur de niveau supérieur dans cette hiérarchie. C'est la fenêtre générale / page sur laquelle tout est dessiné. Vous pouvez avoir plusieurs chiffres indépendants et `` Figure``s peuvent contenir plusieurs \"Axes\".\n",
    "\n",
    "La plupart des octets de traçage sur `` Axes``. Les axes sont effectivement la zone sur laquelle nous traçons des données et des ticks / labels / etc associés. Habituellement, nous configurons un Axes avec un appel à `` subplot`` (qui place les Axes sur une grille ordinaire), donc dans la plupart des cas, `` Axes`` et `` Subplot`` sont synonymes.\n",
    "\n",
    "Chacun `` Axes`` a un `` XAxis`` et un `` YAxis``. Ceux-ci contiennent les tiques, les emplacements des repères, les étiquettes, etc. Dans ce tutoriel, nous contrôlons principalement les tiques, les étiquettes de repères et les limites de données à travers d'autres mécanismes, de sorte que nous ne toucherons pas les éléments individuels de `` Axis`` autant. Cependant, il convient de mentionner ici pour expliquer d'où vient le terme «Axes»."
   ]
  },
  {
   "cell_type": "markdown",
   "metadata": {},
   "source": [
    "Pour commencer à utiliser Matplotlib dans l'environnement IPython Notebook, nous devons configurer l'interaction entre Matplotlib et IPython afin qu'ils puissent bien jouer ensemble. Ceci est accompli avec la commande suivante:"
   ]
  },
  {
   "cell_type": "code",
   "execution_count": 2,
   "metadata": {
    "collapsed": true
   },
   "outputs": [],
   "source": [
    "%matplotlib inline  "
   ]
  },
  {
   "cell_type": "markdown",
   "metadata": {},
   "source": [
    "Cela configure IPython pour jouer avec la bibliothèque `%matplotlib`; Le mot-clé `inline` spécifie que la sortie des tracés Matplotlib doit être affichée directement dans le même ordinateur, juste en dessous de la cellule d'entrée correspondante. Toutefois, il ne importe pas et ne nomme pas l'espace de noms. Pour ce faire, les importations standard sont toujours requises pour utiliser Matplotlib:"
   ]
  },
  {
   "cell_type": "code",
   "execution_count": null,
   "metadata": {
    "collapsed": true
   },
   "outputs": [],
   "source": [
    "import matplotlib\n",
    "import numpy as np\n",
    "import matplotlib.pyplot as plt"
   ]
  },
  {
   "cell_type": "markdown",
   "metadata": {},
   "source": [
    "Pour une utilisation interactive (mais *pas* pour être utilisé à partir de scripts), il existe une option de commodité qui encapsule toutes les étapes ci-dessus:"
   ]
  },
  {
   "cell_type": "code",
   "execution_count": 3,
   "metadata": {
    "collapsed": false
   },
   "outputs": [
    {
     "name": "stdout",
     "output_type": "stream",
     "text": [
      "Populating the interactive namespace from numpy and matplotlib\n"
     ]
    }
   ],
   "source": [
    "# Inclure automatiquement tous les noms du paquet `pylab`\n",
    "%pylab inline"
   ]
  },
  {
   "cell_type": "markdown",
   "metadata": {},
   "source": [
    "Comme il ressort du message que IPython affiche, cela équivaut à l'exécution de% matplotlib, suivie d'une séquence d'importations. Les importations exactes effectuées peuvent être trouvées dans la documentation de `%pylab`:"
   ]
  },
  {
   "cell_type": "code",
   "execution_count": 4,
   "metadata": {
    "collapsed": true
   },
   "outputs": [],
   "source": [
    "%pylab?"
   ]
  },
  {
   "cell_type": "markdown",
   "metadata": {},
   "source": [
    "## Aperçu visuel des fonctions de traçage\n",
    "Voici un aperçu visuel simplifié des types de graphiques les plus couramment utilisés de matplotlib. Passons à travers ces derniers, et nous en reparlerons plus en détail. En cliquant sur l'une de ces images, vous mènera au code qui les a générés. Nous ignorerons cela pour l'instant, mais nous nous efforçons de passer en revue plus tard.\n",
    "\n",
    "## Les bases:  Série/points 1D\n",
    "### Ce que nous avons mentionné jusqu'ici\n",
    "<a  href=\"examples/plot_example.py\"><img src=\"images/plot_example.png\"></a>\n",
    "<a href=\"examples/scatter_example.py\"><img src=\"images/scatter_example.png\"></a>\n",
    "### Autres types de graphiques communes\n",
    "<a href=\"examples/bar_example.py\"><img src=\"images/bar_example.png\"></a>\n",
    "<a href=\"examples/fill_example.py\"><img src=\"images/fill_example.png\"></a>\n",
    "\n",
    "## Arrays et images 2D\n",
    "<a href=\"examples/imshow_example.py\"><img src=\"images/imshow_example.png\"></a>\n",
    "<a href=\"examples/pcolor_example.py\"><img src=\"images/pcolor_example.png\"></a>\n",
    "<a href=\"examples/contour_example.py\"><img src=\"images/contour_example.png\"></a>\n",
    "\n",
    "## Champ de vecteurs\n",
    "<a href=\"examples/vector_example.py\"><img src=\"images/vector_example.png\"></a>\n",
    "\n",
    "## Distributions de données\n",
    "<a href=\"examples/statistical_example.py\"><img src=\"images/statistical_example.png\"></a>"
   ]
  },
  {
   "cell_type": "code",
   "execution_count": null,
   "metadata": {
    "collapsed": true
   },
   "outputs": [],
   "source": []
  }
 ],
 "metadata": {
  "kernelspec": {
   "display_name": "Python 3",
   "language": "python",
   "name": "python3"
  },
  "language_info": {
   "codemirror_mode": {
    "name": "ipython",
    "version": 3
   },
   "file_extension": ".py",
   "mimetype": "text/x-python",
   "name": "python",
   "nbconvert_exporter": "python",
   "pygments_lexer": "ipython3",
   "version": "3.6.0"
  }
 },
 "nbformat": 4,
 "nbformat_minor": 2
}
