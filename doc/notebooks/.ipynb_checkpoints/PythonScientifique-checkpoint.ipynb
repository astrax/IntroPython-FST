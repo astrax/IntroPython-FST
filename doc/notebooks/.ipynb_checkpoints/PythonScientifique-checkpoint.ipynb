{
 "cells": [
  {
   "cell_type": "code",
   "execution_count": 2,
   "metadata": {
    "collapsed": false
   },
   "outputs": [
    {
     "data": {
      "application/javascript": [
       "IPython.notebook.set_autosave_interval(300000)"
      ]
     },
     "metadata": {},
     "output_type": "display_data"
    },
    {
     "name": "stdout",
     "output_type": "stream",
     "text": [
      "Autosaving every 300 seconds\n"
     ]
    },
    {
     "data": {
      "text/html": [
       "<link href='http://fonts.googleapis.com/css?family=Alegreya+Sans:100,300,400,500,700,800,900,100italic,300italic,400italic,500italic,700italic,800italic,900italic' rel='stylesheet' type='text/css'>\n",
       "<link href='http://fonts.googleapis.com/css?family=Arvo:400,700,400italic' rel='stylesheet' type='text/css'>\n",
       "<link href='http://fonts.googleapis.com/css?family=PT+Mono' rel='stylesheet' type='text/css'>\n",
       "<link href='http://fonts.googleapis.com/css?family=Shadows+Into+Light' rel='stylesheet' type='text/css'>\n",
       "<link href='http://fonts.googleapis.com/css?family=Philosopher:400,700,400italic,700italic' rel='stylesheet' type='text/css'>\n",
       "\n",
       "<style>\n",
       "\n",
       "@font-face {\n",
       "    font-family: \"Computer Modern\";\n",
       "    src: url('http://mirrors.ctan.org/fonts/cm-unicode/fonts/otf/cmunss.otf');\n",
       "}\n",
       "\n",
       "#notebook_panel { /* main background */\n",
       "    background: #888;\n",
       "    color: #f6f6f6;\n",
       "}\n",
       "\n",
       "div.cell { /* set cell width to about 80 chars */\n",
       "    width: 1000px;\n",
       "}\n",
       "\n",
       "div #notebook { /* centre the content */\n",
       "    background: #fff; /* white background for content */\n",
       "    width: 1200px;\n",
       "    margin: auto;\n",
       "    padding-left: 1em;\n",
       "}\n",
       "\n",
       "#notebook li { /* More space between bullet points */\n",
       "margin-top:0.8em;\n",
       "}\n",
       "\n",
       "/* draw border around running cells */\n",
       "div.cell.border-box-sizing.code_cell.running { \n",
       "    border: 3px solid #111;\n",
       "}\n",
       "\n",
       "/* Put a solid color box around each cell and its output, visually linking them together */\n",
       "div.cell.code_cell {\n",
       "    background-color: rgba(171,165,131,1.0); \n",
       "    border-radius: 10px; /* rounded borders */\n",
       "    padding: 1em;\n",
       "    margin-top: 1em;\n",
       "}\n",
       "\n",
       "div.text_cell_render{\n",
       "    font-family: 'Arvo' sans-serif;\n",
       "    line-height: 130%;\n",
       "    font-size: 115%;\n",
       "    width:700px;\n",
       "    margin-left:auto;\n",
       "    margin-right:auto;\n",
       "}\n",
       "\n",
       "\n",
       "/* Formatting for header cells */\n",
       ".text_cell_render h1 {\n",
       "    font-family: 'Philosopher', sans-serif;\n",
       "    font-weight: 400;\n",
       "    font-size: 40pt;\n",
       "    line-height: 100%;\n",
       "    color: rgb(12,85,97);\n",
       "    margin-bottom: 0.1em;\n",
       "    margin-top: 0.1em;\n",
       "    display: block;\n",
       "}\t\n",
       ".text_cell_render h2 {\n",
       "    font-family: 'Philosopher', serif;\n",
       "    font-weight: 700;\n",
       "    font-size: 24pt;\n",
       "    line-height: 100%;\n",
       "    color: rgb(171,165,131);\n",
       "    margin-bottom: 0.1em;\n",
       "    margin-top: 0.1em;\n",
       "    display: block;\n",
       "}\t\n",
       "\n",
       ".text_cell_render h3 {\n",
       "    font-family: 'Philosopher', serif;\n",
       "    margin-top:12px;\n",
       "    margin-bottom: 3px;\n",
       "    font-style: italic;\n",
       "    color: rgb(95,92,72);\n",
       "}\n",
       "\n",
       ".text_cell_render h4 {\n",
       "    font-family: 'Philosopher', serif;\n",
       "}\n",
       "\n",
       ".text_cell_render h5 {\n",
       "    font-family: 'Alegreya Sans', sans-serif;\n",
       "    font-weight: 300;\n",
       "    font-size: 16pt;\n",
       "    color: grey;\n",
       "    font-style: italic;\n",
       "    margin-bottom: .1em;\n",
       "    margin-top: 0.1em;\n",
       "    display: block;\n",
       "}\n",
       "\n",
       ".text_cell_render h6 {\n",
       "    font-family: 'PT Mono', sans-serif;\n",
       "    font-weight: 300;\n",
       "    font-size: 10pt;\n",
       "    color: grey;\n",
       "    margin-bottom: 1px;\n",
       "    margin-top: 1px;\n",
       "}\n",
       "\n",
       ".CodeMirror{\n",
       "\tfont-family: \"PT Mono\";\n",
       "        font-size: 100%;\n",
       "}\n",
       "\n",
       ".rendered_html code{\n",
       "\tfont-family: 'PT Mono', sans-serif;\n",
       "    \tfont-weight: 300;\n",
       "\tfont-size: 100%;\n",
       "\tcolor: #083F42;\n",
       "\tbackground-color: #FFFFDD;\n",
       "    \tmargin-bottom: 10px;\n",
       "    \tmargin-top: 10px;\n",
       "}\n",
       "</style>\n"
      ],
      "text/plain": [
       "<IPython.core.display.HTML at 0x7f2dd16c4810>"
      ]
     },
     "execution_count": 2,
     "metadata": {},
     "output_type": "execute_result"
    },
    {
     "name": "stdout",
     "output_type": "stream",
     "text": [
      "\n"
     ]
    }
   ],
   "source": [
    "%matplotlib inline\n",
    "%autosave 300\n",
    "import numpy as np\n",
    "import scipy as sp\n",
    "import matplotlib.pyplot as plt\n",
    "from matplotlib import rcParams\n",
    "rcParams['font.family'] = 'serif'\n",
    "rcParams['font.size'] = 14\n",
    "from IPython.core.display import HTML\n",
    "from IPython.display import display\n",
    "from matplotlib import animation\n",
    "#from JSAnimation import IPython_display\n",
    "css_file = 'style.css'\n",
    "HTML(open(css_file, \"r\").read())"
   ]
  },
  {
   "cell_type": "markdown",
   "metadata": {},
   "source": [
    "## Tableaux avec numpy"
   ]
  },
  {
   "cell_type": "markdown",
   "metadata": {},
   "source": [
    "La bibliothéque Numpy implémente une gestion efficace des tableaux pour représenter les vecteurs et matrices\n",
    "\n",
    "``import numpy as np``\n",
    "\n",
    "* **tableau (array)**: ensemble ordonnée de valeurs de même type (entier, réel) accessible à partir d'un indice commencant à 0. La dimension d'un tableau est fixe.\n",
    "* **liste (list)**: ensemble ordonnée de valeurs pas forcement du même type. La dimension d'une liste est variable. \n"
   ]
  },
  {
   "cell_type": "markdown",
   "metadata": {},
   "source": [
    "### Différences entre tableaux et listes"
   ]
  },
  {
   "cell_type": "code",
   "execution_count": 3,
   "metadata": {
    "collapsed": false
   },
   "outputs": [
    {
     "name": "stdout",
     "output_type": "stream",
     "text": [
      "type X= <type 'numpy.ndarray'> <type 'numpy.float64'>\n",
      "type Y= <type 'list'> <type 'int'>\n",
      "Y= [0, 2, 3, 'quatre']\n",
      "type Y= <type 'list'> <type 'str'>\n",
      "nbre de dimension = 1\n",
      "taille en octets de X =  24 elts= 8\n"
     ]
    }
   ],
   "source": [
    "X=np.array([1.,2.,3.])\n",
    "X[0]=0\n",
    "print \"type X=\",type(X),type(X[0])\n",
    "Y=[1,2,3]\n",
    "Y[0]=0\n",
    "print \"type Y=\",type(Y),type(Y[0])\n",
    "Y.append('quatre')\n",
    "print \"Y=\",Y\n",
    "print \"type Y=\",type(Y),type(Y[3])\n",
    "print \"nbre de dimension =\",X.ndim\n",
    "print \"taille en octets de X = \",X.nbytes,\"elts=\",X.itemsize"
   ]
  },
  {
   "cell_type": "code",
   "execution_count": 4,
   "metadata": {
    "collapsed": false
   },
   "outputs": [
    {
     "name": "stdout",
     "output_type": "stream",
     "text": [
      "X11= 4.0\n",
      "dim X= (2, 2) 4\n",
      "Y11= 4\n",
      "dim Y= 2 2 2\n"
     ]
    },
    {
     "data": {
      "text/plain": [
       "<read-write buffer for 0x2ef6d40, size 32, offset 0 at 0x7f2dd164fe30>"
      ]
     },
     "execution_count": 4,
     "metadata": {},
     "output_type": "execute_result"
    }
   ],
   "source": [
    "X=np.array([[1.,2.],[3.,4]],dtype=np.float64)\n",
    "print \"X11=\",X[1,1]\n",
    "print \"dim X=\",X.shape,X.size\n",
    "Y=[[1.,2.],[3,4]]\n",
    "print \"Y11=\",Y[1][1]\n",
    "print \"dim Y=\",len(Y),len(Y[0]),len(Y[1])\n",
    "X.data"
   ]
  },
  {
   "cell_type": "markdown",
   "metadata": {},
   "source": [
    "On peut représenter des vecteurs et tableaux avec des listes mais c'est très inefficace!!!"
   ]
  },
  {
   "cell_type": "code",
   "execution_count": 5,
   "metadata": {
    "collapsed": false
   },
   "outputs": [
    {
     "name": "stdout",
     "output_type": "stream",
     "text": [
      "100000 loops, best of 3: 6.81 µs per loop\n"
     ]
    }
   ],
   "source": [
    "def creationTab(N):\n",
    "    T=np.zeros((N),dtype=np.int64)\n",
    "    return T\n",
    "N=10000\n",
    "%timeit creationTab(N)"
   ]
  },
  {
   "cell_type": "code",
   "execution_count": 6,
   "metadata": {
    "collapsed": false
   },
   "outputs": [
    {
     "name": "stdout",
     "output_type": "stream",
     "text": [
      "1000 loops, best of 3: 937 µs per loop\n"
     ]
    }
   ],
   "source": [
    "def creationList(N):\n",
    "    L=[]\n",
    "    for i in range(N):\n",
    "        L.append(0)\n",
    "    return L\n",
    "N=10000\n",
    "%timeit creationList(N)"
   ]
  },
  {
   "cell_type": "markdown",
   "metadata": {},
   "source": [
    "### Créations de tableaux"
   ]
  },
  {
   "cell_type": "markdown",
   "metadata": {},
   "source": [
    "* avec la fonction array\n",
    "        X=np.array(object,dtype=type)\n",
    "        X=np.array(list,dtype=type)\n",
    "  **object**  = un tableau ou equivalent\n",
    "  \n",
    "  **list** = une liste de valeurs\n",
    "  \n",
    "  **type** = type des elements\n",
    "      int float complex bool \n",
    "      np.int32, np.int64, np.float32, np.float54, np.complex128\n",
    "  \n",
    "  * avec des fonction de numpy\n",
    "    * sans initialisation des valeurs\n",
    "            X=np.empty(shape)\n",
    "    ** shape ** = liste des dimensions entre ()   (tuple)\n",
    "    * initialisation valeurs constante nulle ou #0\n",
    "    \n",
    "             X=np.zeros(shape,dtype)\n",
    "             X=np.ones(shape,dtype)\n",
    "        \n",
    "    * intervalle de valeurs\n",
    "    \n",
    "             X=np.arange(deb,fin,pas)\n",
    "             X=np.linspace(xdeb,xfin,nb_de_points)\n",
    "        \n",
    "    * meshgrid en dimension >= 2D\n",
    "    \n",
    "             X,Y=np.meshgrid(X0,Y0)\n",
    "             \n",
    "    * random\n",
    "             X=np.random.random(shape)"
   ]
  },
  {
   "cell_type": "code",
   "execution_count": 7,
   "metadata": {
    "collapsed": false
   },
   "outputs": [
    {
     "name": "stdout",
     "output_type": "stream",
     "text": [
      "[[ 2.  2.]\n",
      " [ 2.  2.]\n",
      " [ 2.  2.]]\n",
      "[ 0.   0.1  0.2  0.3  0.4  0.5  0.6  0.7  0.8  0.9]\n",
      "[ 0.   0.1  0.2  0.3  0.4  0.5  0.6  0.7  0.8  0.9  1. ]\n",
      "X= [[ 0.   0.5  1. ]\n",
      " [ 0.   0.5  1. ]]\n",
      "Y= [[ 0.  0.  0.]\n",
      " [ 1.  1.  1.]]\n",
      "Valeurs aleatoires entre 0 et 1 = [ 0.21640757  0.45873766  0.42132117  0.03568886  0.66916467]\n"
     ]
    }
   ],
   "source": [
    "print 2*np.ones((3,2))\n",
    "print np.arange(0.,1.,0.1)\n",
    "print np.linspace(0.,1.,11)\n",
    "X,Y=np.meshgrid(np.linspace(0,1,3),np.linspace(0,1,2))\n",
    "print \"X=\",X\n",
    "print \"Y=\",Y\n",
    "print \"Valeurs aleatoires entre 0 et 1 =\",np.random.random((5))"
   ]
  },
  {
   "cell_type": "markdown",
   "metadata": {},
   "source": [
    "*  initialisation avec des listes de compréhension\n",
    "\n",
    "        X = np.array([ val for i in range(n)])"
   ]
  },
  {
   "cell_type": "code",
   "execution_count": 8,
   "metadata": {
    "collapsed": false
   },
   "outputs": [
    {
     "name": "stdout",
     "output_type": "stream",
     "text": [
      "[ 0  1  4  9 16 25 36 49 64 81]\n"
     ]
    }
   ],
   "source": [
    "print np.array([i*i for i in range(10)])"
   ]
  },
  {
   "cell_type": "markdown",
   "metadata": {},
   "source": [
    "### Indicage des tableaux"
   ]
  },
  {
   "cell_type": "markdown",
   "metadata": {},
   "source": [
    "on compte à partir de 0 (comme en algorithmique)\n",
    "\n",
    "* X[0+i]     élément i+1 de i\n",
    "\n",
    "* X[-1]      dernier element de i = X[n-1]\n",
    "\n",
    "* X[-1-j]    j élément avant le dernier = X[n-j]\n",
    "\n",
    "* X[i:j:pas] coupe ou slice du tableau X[i],X[i+pas],X[i+2p], .. X[k]   avec k<j"
   ]
  },
  {
   "cell_type": "code",
   "execution_count": 9,
   "metadata": {
    "collapsed": false
   },
   "outputs": [
    {
     "name": "stdout",
     "output_type": "stream",
     "text": [
      "[  0   1   8  27  64 125 216 343 512 729]\n",
      "0 1 8 343 512 729\n",
      "[512]\n"
     ]
    }
   ],
   "source": [
    "X=np.array([j**3 for j in range(10)])\n",
    "print X\n",
    "print X[0],X[1],X[2],X[-3],X[-2],X[-1]\n",
    "print X[-2:-1]"
   ]
  },
  {
   "cell_type": "markdown",
   "metadata": {},
   "source": [
    "### Adressage indirecte (fancy adressing)"
   ]
  },
  {
   "cell_type": "markdown",
   "metadata": {},
   "source": [
    "on utilise des tableaux d'indices rol et col\n",
    "\n",
    "        A[row,col]"
   ]
  },
  {
   "cell_type": "code",
   "execution_count": 10,
   "metadata": {
    "collapsed": false
   },
   "outputs": [
    {
     "name": "stdout",
     "output_type": "stream",
     "text": [
      "A= [[ 0  1  2  3  4]\n",
      " [10 11 12 13 14]\n",
      " [20 21 22 23 24]\n",
      " [30 31 32 33 34]\n",
      " [40 41 42 43 44]]\n",
      "A[i=0,2]= [[ 0  1  2  3  4]\n",
      " [20 21 22 23 24]]\n",
      "A[0,1] et A[2,-1]= [ 1 24]\n"
     ]
    }
   ],
   "source": [
    "A = np.array([[n+m*10 for n in range(5)] for m in range(5)])\n",
    "print \"A=\",A\n",
    "row_indices=[0,2]\n",
    "print \"A[i=0,2]=\",A[row_indices]\n",
    "col_indices = [1, -1]\n",
    "print \"A[0,1] et A[2,-1]=\",A[row_indices,col_indices]"
   ]
  },
  {
   "cell_type": "markdown",
   "metadata": {},
   "source": [
    "* utilisation de la fonction **bp.ix_* pour sélectionner des sous-matrices"
   ]
  },
  {
   "cell_type": "code",
   "execution_count": 11,
   "metadata": {
    "collapsed": false
   },
   "outputs": [
    {
     "name": "stdout",
     "output_type": "stream",
     "text": [
      "sous matrice=  [[ 1  4]\n",
      " [21 24]]\n"
     ]
    }
   ],
   "source": [
    "print \"sous matrice= \",A[np.ix_(row_indices,col_indices)]"
   ]
  },
  {
   "cell_type": "markdown",
   "metadata": {},
   "source": [
    "* masque avec des valeurs logiques (bool)\n",
    "    * utile pour sélectionner les valeurs d'un vecteur dans un intervalle"
   ]
  },
  {
   "cell_type": "code",
   "execution_count": 12,
   "metadata": {
    "collapsed": false
   },
   "outputs": [
    {
     "name": "stdout",
     "output_type": "stream",
     "text": [
      "B= [ 0.    0.25  0.5   0.75  1.  ]\n",
      "[ 0.    0.75  1.  ]\n",
      "[ 0.25  0.5   0.75]\n"
     ]
    }
   ],
   "source": [
    "B = np.linspace(0.,1.,5)\n",
    "print \"B=\",B\n",
    "mask = np.array([True, False, False,True, True])\n",
    "print B[mask]\n",
    "mask=(B>0.2)*(B<0.8)\n",
    "print B[mask]"
   ]
  },
  {
   "cell_type": "markdown",
   "metadata": {},
   "source": [
    "### Aliasing"
   ]
  },
  {
   "cell_type": "code",
   "execution_count": 13,
   "metadata": {
    "collapsed": false
   },
   "outputs": [
    {
     "name": "stdout",
     "output_type": "stream",
     "text": [
      "pas d'aliasing avec les scalaires\n",
      "3 2\n"
     ]
    }
   ],
   "source": [
    "print \"pas d'aliasing avec les scalaires\"\n",
    "x=2\n",
    "y=x\n",
    "x=3\n",
    "print x,y"
   ]
  },
  {
   "cell_type": "code",
   "execution_count": 14,
   "metadata": {
    "collapsed": false
   },
   "outputs": [
    {
     "name": "stdout",
     "output_type": "stream",
     "text": [
      "mais aliasing avec les listes et tableaux\n",
      "[0, 2, 3] [0, 2, 3]\n"
     ]
    }
   ],
   "source": [
    "print \"mais aliasing avec les listes et tableaux\"\n",
    "X=[1,2,3]\n",
    "Y=X\n",
    "X[0]=0\n",
    "print X,Y"
   ]
  },
  {
   "cell_type": "markdown",
   "metadata": {},
   "source": [
    "### utilisation de la fonction copy (explicite ou implicite)"
   ]
  },
  {
   "cell_type": "code",
   "execution_count": 15,
   "metadata": {
    "collapsed": false
   },
   "outputs": [
    {
     "name": "stdout",
     "output_type": "stream",
     "text": [
      "pas d'aliasing si copie explicite des valeurs\n",
      "[0 2 3] [1 2 3]\n",
      "[3 2 3] [ 0.  2.  3.]\n"
     ]
    }
   ],
   "source": [
    "print \"pas d'aliasing si copie explicite des valeurs\"\n",
    "X=np.array([1,2,3])\n",
    "Y=X.copy()\n",
    "X[0]=0\n",
    "print X,Y\n",
    "Y=np.zeros(X.shape)\n",
    "Y[:]=X\n",
    "X[0]=3\n",
    "print X,Y"
   ]
  },
  {
   "cell_type": "markdown",
   "metadata": {},
   "source": [
    "### Notation matricielle"
   ]
  },
  {
   "cell_type": "markdown",
   "metadata": {},
   "source": [
    "* Attention par defaut opération sur les éléments\n",
    "* les fonctions mathématiques dans numpy ont pour aguments des tableaux\n",
    "* **np.dot** produit scalaire    **np.outer** produit tensorielle  **np.inner**"
   ]
  },
  {
   "cell_type": "code",
   "execution_count": 16,
   "metadata": {
    "collapsed": false
   },
   "outputs": [
    {
     "name": "stdout",
     "output_type": "stream",
     "text": [
      "[ 0  1  4  9 16]\n",
      "[ 1.          0.54030231 -0.41614684 -0.9899925  -0.65364362]\n",
      "30\n",
      "[[ 0  0  0  0  0]\n",
      " [ 0  1  2  3  4]\n",
      " [ 0  2  4  6  8]\n",
      " [ 0  3  6  9 12]\n",
      " [ 0  4  8 12 16]]\n",
      "30\n"
     ]
    }
   ],
   "source": [
    "X=np.arange(0,5,1)\n",
    "print X*X\n",
    "print np.cos(X)\n",
    "print np.dot(X,X)\n",
    "print np.outer(X,X)\n",
    "print np.inner(X,X)"
   ]
  },
  {
   "cell_type": "code",
   "execution_count": 17,
   "metadata": {
    "collapsed": false
   },
   "outputs": [
    {
     "name": "stdout",
     "output_type": "stream",
     "text": [
      "<type 'numpy.ndarray'> (5, 5)\n",
      "[[ 0  0  0  0  0]\n",
      " [ 0  1  4  9 16]\n",
      " [ 0  2  8 18 32]\n",
      " [ 0  3 12 27 48]\n",
      " [ 0  4 16 36 64]]\n",
      "[  0  30  60  90 120]\n",
      "[[ 0  0  0  0  0]\n",
      " [ 0  0  0  0  0]\n",
      " [ 0  0  0  0  0]\n",
      " [ 0  0  0  0  0]\n",
      " [ 0  0  0  0  0]\n",
      " [ 0  0  0  0  0]\n",
      " [ 0  1  2  3  4]\n",
      " [ 0  2  4  6  8]\n",
      " [ 0  3  6  9 12]\n",
      " [ 0  4  8 12 16]\n",
      " [ 0  0  0  0  0]\n",
      " [ 0  2  4  6  8]\n",
      " [ 0  4  8 12 16]\n",
      " [ 0  6 12 18 24]\n",
      " [ 0  8 16 24 32]\n",
      " [ 0  0  0  0  0]\n",
      " [ 0  3  6  9 12]\n",
      " [ 0  6 12 18 24]\n",
      " [ 0  9 18 27 36]\n",
      " [ 0 12 24 36 48]\n",
      " [ 0  0  0  0  0]\n",
      " [ 0  4  8 12 16]\n",
      " [ 0  8 16 24 32]\n",
      " [ 0 12 24 36 48]\n",
      " [ 0 16 32 48 64]]\n",
      "A.A= [[  0   0   0   0   0]\n",
      " [  0  30  60  90 120]\n",
      " [  0  60 120 180 240]\n",
      " [  0  90 180 270 360]\n",
      " [  0 120 240 360 480]]\n",
      "A.At= [[  0   0   0   0   0]\n",
      " [  0  30  60  90 120]\n",
      " [  0  60 120 180 240]\n",
      " [  0  90 180 270 360]\n",
      " [  0 120 240 360 480]]\n"
     ]
    }
   ],
   "source": [
    "A=np.array(np.outer(np.arange(5),np.arange(5)))\n",
    "print type(A),A.shape\n",
    "print A*X\n",
    "print np.dot(A,X)\n",
    "print np.outer(A,X)\n",
    "\n",
    "print \"A.A=\",np.inner(A,A)\n",
    "print \"A.At=\",np.dot(A,A.transpose())"
   ]
  },
  {
   "cell_type": "markdown",
   "metadata": {},
   "source": [
    "### attention:\n",
    "* on évite les boucles explicites pour des questions d’efficacité \n",
    "* mais on commence toujours par écrire la forme explicite avec des boucles , puis ensuite la forme vectorielle\n",
    "\n",
    "**exemple:** calcul de la forme quadratique\n",
    "$$ \\Phi = \\sum_{i=1}^n \\sum_{j=1}^n A_{ij} X_i X_j - \\sum_{j=1}^n B_j X_j$$"
   ]
  },
  {
   "cell_type": "code",
   "execution_count": 18,
   "metadata": {
    "collapsed": false
   },
   "outputs": [
    {
     "name": "stdout",
     "output_type": "stream",
     "text": [
      "890.0\n"
     ]
    }
   ],
   "source": [
    "Phi=0.0\n",
    "n=X.size\n",
    "B=np.ones(X.shape)\n",
    "for i in range(n):\n",
    "    sum=0.0\n",
    "    for j in range(n):\n",
    "        sum = sum + A[i,j]*X[j]\n",
    "    Phi = Phi + (sum - B[i])*X[i]\n",
    "print Phi"
   ]
  },
  {
   "cell_type": "code",
   "execution_count": 19,
   "metadata": {
    "collapsed": false
   },
   "outputs": [
    {
     "name": "stdout",
     "output_type": "stream",
     "text": [
      "890.0\n"
     ]
    }
   ],
   "source": [
    "print np.dot(np.dot(A,X)-B,X)"
   ]
  },
  {
   "cell_type": "markdown",
   "metadata": {},
   "source": [
    "### calcul du résidu d'un système linéaire $ R = B - AX$\n",
    "$$ R_i = B_i - \\sum_{i=1}^n A_{ij} X_j $$\n",
    "\n",
    "**ATTENTION**: problème. trouver l'erreur!!!!!!!"
   ]
  },
  {
   "cell_type": "code",
   "execution_count": 20,
   "metadata": {
    "collapsed": false
   },
   "outputs": [
    {
     "name": "stdout",
     "output_type": "stream",
     "text": [
      "|R|= 2.73232388544\n",
      "|R|= 2.73232388544\n",
      "|R|= 6.37989954629\n"
     ]
    }
   ],
   "source": [
    "n=5\n",
    "B=np.random.random((n))\n",
    "A=np.random.random((n,n))\n",
    "X=np.random.random((n))\n",
    "R=np.zeros((n))\n",
    "# calcul explicite\n",
    "for i in range(n):\n",
    "    R[i]=B[i]\n",
    "    for j in range(n):\n",
    "        R[i] = R[i] - A[i,j]*X[j]\n",
    "print \"|R|=\",np.linalg.norm(R)\n",
    "# calcul avec notation matricielle\n",
    "R  = B\n",
    "R -= np.dot(A,X)\n",
    "print \"|R|=\",np.linalg.norm(R)\n",
    "# 2ne version\n",
    "R = B - np.dot(A,X)\n",
    "print \"|R|=\",np.linalg.norm(R)"
   ]
  },
  {
   "cell_type": "markdown",
   "metadata": {},
   "source": [
    "### Analyse des données\n",
    "\n",
    "        np.amax(tab)    max suivant un axe (defaut 0)\n",
    "        np.amin(tab)    min\n",
    "        np.mean(tab)    moyenne\n",
    "        np.sum(tab)     somme\n",
    "        np.prod(tab)    produit"
   ]
  },
  {
   "cell_type": "code",
   "execution_count": 21,
   "metadata": {
    "collapsed": false
   },
   "outputs": [
    {
     "name": "stdout",
     "output_type": "stream",
     "text": [
      "M= [[ 0.42568278  0.87603168  0.9812573 ]\n",
      " [ 0.62576114  0.47855713  0.22009129]\n",
      " [ 0.72228911  0.66452705  0.60106766]]\n"
     ]
    }
   ],
   "source": [
    "M=np.random.random((3,3))\n",
    "print \"M=\",M"
   ]
  },
  {
   "cell_type": "code",
   "execution_count": 22,
   "metadata": {
    "collapsed": false
   },
   "outputs": [
    {
     "name": "stdout",
     "output_type": "stream",
     "text": [
      "max= 0.981257295213\n",
      "min= [ 0.42568278  0.22009129  0.60106766]\n",
      "moy= [ 0.59124435  0.67303862  0.60080541]\n",
      "sum= 5.59526514093\n",
      "prod= [ 0.1924003   0.27859048  0.12981029]\n"
     ]
    }
   ],
   "source": [
    "print \"max=\",np.amax(M)\n",
    "print \"min=\",np.amin(M,axis=1)\n",
    "print \"moy=\",np.mean(M,axis=0)\n",
    "print \"sum=\",np.sum(M)\n",
    "print \"prod=\",np.prod(M,axis=0)"
   ]
  },
  {
   "cell_type": "markdown",
   "metadata": {},
   "source": [
    "## Lecture / Ecriture des données"
   ]
  },
  {
   "cell_type": "markdown",
   "metadata": {},
   "source": [
    "### gestion de fichiers classique avec Python\n",
    "    F=open(\"nom fichier\",\"r\")\n",
    "    L=F.readlines()\n",
    "    # decodage de chaque ligne\n",
    "    F.close()\n",
    "    \n",
    "### lecture de données (format texte en colonnes)\n",
    "    A=np.loadtxt(\"nom de fichier\")\n",
    "### ecriture d'un tableau de données\n",
    "    np.savetxt(\"nom de fichier\",A)\n",
    "    \n",
    "### Exemple: lecture fichier de données"
   ]
  },
  {
   "cell_type": "code",
   "execution_count": 23,
   "metadata": {
    "collapsed": false
   },
   "outputs": [
    {
     "name": "stdout",
     "output_type": "stream",
     "text": [
      "# cas alpha= 0.783841\n",
      "2.28163 9.54997\n",
      "1.38177 6.44183\n",
      "2.68774 10.8512\n",
      "1.3478 6.31609\n",
      "1.34159 6.29375\n"
     ]
    }
   ],
   "source": [
    "%%bash\n",
    "cat donnee.dat"
   ]
  },
  {
   "cell_type": "code",
   "execution_count": 24,
   "metadata": {
    "collapsed": false
   },
   "outputs": [
    {
     "name": "stdout",
     "output_type": "stream",
     "text": [
      "X= [ 2.28163  1.38177  2.68774  1.3478   1.34159]\n",
      "Y= [  9.54997   6.44183  10.8512    6.31609   6.29375]\n"
     ]
    }
   ],
   "source": [
    "# methode classique\n",
    "F=open(\"donnee.dat\",\"r\")\n",
    "L=F.readlines()\n",
    "F.close()\n",
    "# traitement des donnees\n",
    "N=len(L)-1\n",
    "X=np.zeros((N))\n",
    "Y=np.zeros((N))\n",
    "for i in range(N):\n",
    "    line = L[i+1].split()\n",
    "    X[i] = float(line[0])\n",
    "    Y[i] = float(line[1])\n",
    "print \"X=\",X\n",
    "print \"Y=\",Y"
   ]
  },
  {
   "cell_type": "code",
   "execution_count": 25,
   "metadata": {
    "collapsed": false
   },
   "outputs": [
    {
     "name": "stdout",
     "output_type": "stream",
     "text": [
      "X= [ 2.28163  1.38177  2.68774  1.3478   1.34159]\n",
      "Y= [  9.54997   6.44183  10.8512    6.31609   6.29375]\n"
     ]
    }
   ],
   "source": [
    "# version avec loadtxt\n",
    "A=np.loadtxt(\"donnee.dat\")\n",
    "X=A[:,0]\n",
    "Y=A[:,1]\n",
    "print \"X=\",X\n",
    "print \"Y=\",Y"
   ]
  },
  {
   "cell_type": "markdown",
   "metadata": {},
   "source": [
    "### Affichage avec un format (similaire a printf en C)\n",
    "             print \"format \"%(val1,val2)\n",
    "             dans la chaine format : %d (decimal) %f (flottant) %s (chaine)"
   ]
  },
  {
   "cell_type": "code",
   "execution_count": 26,
   "metadata": {
    "collapsed": false
   },
   "outputs": [
    {
     "name": "stdout",
     "output_type": "stream",
     "text": [
      "Pi= 3.14159265359\n",
      "Valeur approchée de Pi=3.142\n"
     ]
    }
   ],
   "source": [
    "print \"Pi=\",np.pi\n",
    "print \"Valeur approchée de Pi=%5.3f\"%np.pi"
   ]
  },
  {
   "cell_type": "markdown",
   "metadata": {},
   "source": [
    "## Bibliographie"
   ]
  },
  {
   "cell_type": "markdown",
   "metadata": {},
   "source": [
    "* http://numpy.scipy.org\n",
    "* http://scipy.org/Tentative_NumPy_Tutorial\n",
    "* http://scipy.org/NumPy_for_Matlab_Users - A Numpy guide for MATLAB users.Bibliographoe"
   ]
  },
  {
   "cell_type": "markdown",
   "metadata": {},
   "source": [
    "## Version de Python et des bibliothéques"
   ]
  },
  {
   "cell_type": "code",
   "execution_count": 27,
   "metadata": {
    "collapsed": false
   },
   "outputs": [
    {
     "name": "stdout",
     "output_type": "stream",
     "text": [
      "\t\tSystème utilisé\n",
      "Système :\t\tlinux2\n",
      "Linux-3.13.0-46-generic-x86_64-with-Ubuntu-14.04-trusty\n",
      "Ordinateur:\t\tx86_64\n",
      "Version de Python:\t2.7.6 (default, Mar 22 2014, 22:59:56) \n",
      "[GCC 4.8.2]\n",
      "Version de IPython:\t2.2.0\n",
      "Version de numpy:\t1.8.2\n",
      "Version de scipy:\t0.13.3\n",
      "Version de matplotlib:\t1.3.1\n"
     ]
    }
   ],
   "source": [
    "print \"\\t\\tSystème utilisé\"\n",
    "import sys\n",
    "print \"Système :\\t\\t\",sys.platform\n",
    "import platform\n",
    "print platform.platform()\n",
    "print \"Ordinateur:\\t\\t\",platform.machine()\n",
    "print \"Version de Python:\\t\",sys.version\n",
    "import IPython\n",
    "print \"Version de IPython:\\t\",IPython.__version__\n",
    "import numpy\n",
    "print \"Version de numpy:\\t\",numpy.version.version\n",
    "import scipy\n",
    "print \"Version de scipy:\\t\",scipy.version.version\n",
    "import matplotlib\n",
    "print \"Version de matplotlib:\\t\",matplotlib.__version__"
   ]
  },
  {
   "cell_type": "markdown",
   "metadata": {},
   "source": [
    "## Fin de la leçon"
   ]
  }
 ],
 "metadata": {
  "kernelspec": {
   "display_name": "Python 3",
   "language": "python",
   "name": "python3"
  },
  "language_info": {
   "codemirror_mode": {
    "name": "ipython",
    "version": 3
   },
   "file_extension": ".py",
   "mimetype": "text/x-python",
   "name": "python",
   "nbconvert_exporter": "python",
   "pygments_lexer": "ipython3",
   "version": "3.6.0"
  }
 },
 "nbformat": 4,
 "nbformat_minor": 0
}
