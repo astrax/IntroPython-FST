{
 "cells": [
  {
   "cell_type": "markdown",
   "metadata": {},
   "source": [
    "# Introduction à la programmation scientifique"
   ]
  },
  {
   "cell_type": "markdown",
   "metadata": {},
   "source": [
    "### Ahmed Ammar et Hassen Ghalila, dpt Physique, Faculté des Sciences de Tunis, Université de Tunis El Manar"
   ]
  },
  {
   "cell_type": "code",
   "execution_count": 1,
   "metadata": {
    "collapsed": false
   },
   "outputs": [
    {
     "name": "stdout",
     "output_type": "stream",
     "text": [
      "Sun May  7 22:59:35 2017\n"
     ]
    }
   ],
   "source": [
    "#Juste pour savoir la dernière fois que cela a été exécuté:\n",
    "import time\n",
    "print(time.ctime())"
   ]
  },
  {
   "cell_type": "markdown",
   "metadata": {},
   "source": [
    "## Langage Python"
   ]
  },
  {
   "cell_type": "markdown",
   "metadata": {},
   "source": [
    "\n",
    "[Python] (http://www.python.org/) est un langage de programmation moderne de haut niveau, orienté objet et d'usage général.\n",
    "\n",
    "Caractéristiques générales de Python:\n",
    "\n",
    "* ** Langage simple: ** facile à lire et à apprendre avec une syntaxe minimaliste.\n",
    "* ** Langage concis et expressif: ** moins de lignes de code, moins de bugs, plus facile à maintenir.\n",
    "\n",
    "Détails techniques:\n",
    "\n",
    "* ** Typé dynamiquement: ** Pas besoin de définir le type des variables, les arguments ou le type des fonctions.\n",
    "* ** La gestion automatique de la mémoire: ** Aucune nécessité d'allouer explicitement et désallouer la mémoire pour les variables et les tableaux de données. Aucun bug de fuite de mémoire.\n",
    "* ** Interprété: ** Pas besoin de compiler le code. L'interpréteur Python lit et exécute le code python directement.\n",
    "\n",
    "### Avantages:\n",
    "\n",
    "* Le principal avantage est la facilité de programmation, qui minimise le temps nécessaire pour développer, déboguer et maintenir le code.\n",
    "* Langage bien conçu qui encouragent les bonnes pratiques de programmation:\n",
    "  * Modulaire et orientée objet, permet l'encapsulation  et la réutilisation de code. Il en résulte souvent un code plus transparent, maintenable et sans bug.\n",
    "  * Documentation intégré avec le code.\n",
    "* De nombreuses bibliothèques standards, et de nombreux packages add-on.\n",
    "\n",
    "### Inconvénients:\n",
    "\n",
    "* Puisque Python est un langage de programmation interprété et typé dynamiquement, l'exécution de code python peut être lent par rapport à des langages de programmation compilés à typage statique, tels que C et Fortran.\n",
    "* Un peu trop décentralisé, avec différents environnements, bibliothéques, et documentation répartis à différents endroits. Cela peut le rendre difficile pour commencer.\n"
   ]
  },
  {
   "cell_type": "markdown",
   "metadata": {},
   "source": [
    "## Installation d'un environnement Python scientifique"
   ]
  },
  {
   "cell_type": "markdown",
   "metadata": {},
   "source": [
    "[Anaconda CE](http://continuum.io/downloads.html). Anaconda Community Edition is free."
   ]
  },
  {
   "cell_type": "markdown",
   "metadata": {},
   "source": [
    "## Documents et sites Web sur Python\n",
    "\n",
    "* [Python](http://www.python.org). The official Python web site.\n",
    "* [Python tutorials](https://docs.python.org/3.6/tutorial/). The official Python tutorials.\n",
    "* [Think Python](http://www.greenteapress.com/thinkpython). ''How to Think Like a Computer Scientist'' by Allen B. Downey (free book).\n",
    "* [Python Course](http://python-course.eu/python3_course.php). This website contains a free and extensive online tutorial by Bernd Klein, well suited for self-learning. However, you can attend one of his Python courses in Paris, London, Toronto, Berlin, Frankfurt, Hamburg Munich or Lake Constance. "
   ]
  },
  {
   "cell_type": "markdown",
   "metadata": {},
   "source": [
    "## Version de Python et bibliothéques utilisées"
   ]
  },
  {
   "cell_type": "code",
   "execution_count": null,
   "metadata": {
    "collapsed": false
   },
   "outputs": [],
   "source": [
    "print (\"\\t\\tSystème utilisé\")\n",
    "import sys\n",
    "print(\"Système :\\t\\t\",sys.platform)\n",
    "import platform\n",
    "print(platform.platform())\n",
    "print(\"Ordinateur:\\t\\t\",platform.machine())\n",
    "print(\"Version de Python:\\t\",sys.version)\n",
    "import IPython\n",
    "print(\"Version de IPython:\\t\",IPython.__version__)\n",
    "import numpy\n",
    "print(\"Version de numpy:\\t\",numpy.version.version)\n",
    "import scipy\n",
    "print(\"Version de scipy:\\t\",scipy.version.version)\n",
    "import matplotlib\n",
    "print(\"Version de matplotlib:\\t\",matplotlib.__version__)"
   ]
  }
 ],
 "metadata": {
  "kernelspec": {
   "display_name": "Python 3",
   "language": "python",
   "name": "python3"
  },
  "language_info": {
   "codemirror_mode": {
    "name": "ipython",
    "version": 3
   },
   "file_extension": ".py",
   "mimetype": "text/x-python",
   "name": "python",
   "nbconvert_exporter": "python",
   "pygments_lexer": "ipython3",
   "version": "3.6.0"
  }
 },
 "nbformat": 4,
 "nbformat_minor": 2
}
